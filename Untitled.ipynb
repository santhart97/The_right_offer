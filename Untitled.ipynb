{
 "cells": [
  {
   "cell_type": "code",
   "execution_count": 1,
   "metadata": {},
   "outputs": [],
   "source": [
    "import pandas as pd\n",
    "import seaborn as sns\n",
    "import matplotlib as plt\n",
    "import numpy as np"
   ]
  },
  {
   "cell_type": "markdown",
   "metadata": {},
   "source": [
    "# Import Data"
   ]
  },
  {
   "cell_type": "markdown",
   "metadata": {},
   "source": [
    "First I import the data and print the shape and head to have a visual of what it looks like."
   ]
  },
  {
   "cell_type": "code",
   "execution_count": 2,
   "metadata": {},
   "outputs": [
    {
     "name": "stdout",
     "output_type": "stream",
     "text": [
      "Audi shape: (10668, 9)\n",
      "  model  year  price transmission  mileage fuelType  tax   mpg  engineSize\n",
      "0    A1  2017  12500       Manual    15735   Petrol  150  55.4         1.4\n",
      "1    A6  2016  16500    Automatic    36203   Diesel   20  64.2         2.0\n"
     ]
    }
   ],
   "source": [
    "Audi = pd.read_csv(\"../desktop/ironhack/Cars/audi.csv\", encoding=\"latin1\")\n",
    "print(\"Audi shape:\",Audi.shape)\n",
    "print(Audi.head(2))\n"
   ]
  },
  {
   "cell_type": "code",
   "execution_count": 3,
   "metadata": {},
   "outputs": [
    {
     "name": "stdout",
     "output_type": "stream",
     "text": [
      "BMW shape: (10781, 9)\n",
      "      model  year  price transmission  mileage fuelType  tax   mpg  engineSize\n",
      "0  5 Series  2014  11200    Automatic    67068   Diesel  125  57.6         2.0\n",
      "1  6 Series  2018  27000    Automatic    14827   Petrol  145  42.8         2.0\n"
     ]
    }
   ],
   "source": [
    "BMW = pd.read_csv(\"../desktop/ironhack/Cars/bmw.csv\", encoding=\"latin1\")\n",
    "print(\"BMW shape:\", BMW.shape)\n",
    "print(BMW.head(2))\n"
   ]
  },
  {
   "cell_type": "code",
   "execution_count": 4,
   "metadata": {},
   "outputs": [
    {
     "name": "stdout",
     "output_type": "stream",
     "text": [
      "Ford shape: (17965, 9)\n",
      "     model  year  price transmission  mileage fuelType  tax   mpg  engineSize\n",
      "0   Fiesta  2017  12000    Automatic    15944   Petrol  150  57.7         1.0\n",
      "1    Focus  2018  14000       Manual     9083   Petrol  150  57.7         1.0\n"
     ]
    }
   ],
   "source": [
    "Ford = pd.read_csv(\"../desktop/ironhack/Cars/ford.csv\", encoding=\"latin1\")\n",
    "print(\"Ford shape:\",Ford.shape)\n",
    "print(Ford.head(2))"
   ]
  },
  {
   "cell_type": "code",
   "execution_count": 5,
   "metadata": {},
   "outputs": [
    {
     "name": "stdout",
     "output_type": "stream",
     "text": [
      "Toyota shape: (6738, 9)\n",
      "  model  year  price transmission  mileage fuelType  tax   mpg  engineSize\n",
      "0  GT86  2016  16000       Manual    24089   Petrol  265  36.2         2.0\n",
      "1  GT86  2017  15995       Manual    18615   Petrol  145  36.2         2.0\n"
     ]
    }
   ],
   "source": [
    "Toyota = pd.read_csv(\"../desktop/ironhack/Cars/toyota.csv\", encoding=\"latin1\")\n",
    "print(\"Toyota shape:\", Toyota.shape)\n",
    "print(Toyota.head(2))"
   ]
  },
  {
   "cell_type": "code",
   "execution_count": 6,
   "metadata": {},
   "outputs": [
    {
     "name": "stdout",
     "output_type": "stream",
     "text": [
      "Hyundai shape: (4860, 9)\n",
      "     model  year  price transmission  mileage fuelType  tax(Â£)   mpg  \\\n",
      "0      I20  2017   7999       Manual    17307   Petrol      145  58.9   \n",
      "1   Tucson  2016  14499    Automatic    25233   Diesel      235  43.5   \n",
      "\n",
      "   engineSize  \n",
      "0         1.2  \n",
      "1         2.0  \n"
     ]
    }
   ],
   "source": [
    "Hyundai = pd.read_csv(\"../desktop/ironhack/Cars/hyundai.csv\", encoding=\"latin1\")\n",
    "print(\"Hyundai shape:\",Hyundai.shape)\n",
    "print(Hyundai.head(2))"
   ]
  },
  {
   "cell_type": "code",
   "execution_count": 7,
   "metadata": {},
   "outputs": [
    {
     "name": "stdout",
     "output_type": "stream",
     "text": [
      "Mercedes shape: (13119, 9)\n",
      "      model  year  price transmission  mileage fuelType  tax   mpg  engineSize\n",
      "0       SLK  2005   5200    Automatic    63000   Petrol  325  32.1         1.8\n",
      "1   S Class  2017  34948    Automatic    27000   Hybrid   20  61.4         2.1\n"
     ]
    }
   ],
   "source": [
    "Mercedes = pd.read_csv(\"../desktop/ironhack/Cars/mercedes.csv\", encoding=\"latin1\")\n",
    "print(\"Mercedes shape:\", Mercedes.shape)\n",
    "print(Mercedes.head(2))"
   ]
  },
  {
   "cell_type": "code",
   "execution_count": 8,
   "metadata": {},
   "outputs": [
    {
     "name": "stdout",
     "output_type": "stream",
     "text": [
      "Skoda shape (6267, 9)\n",
      "      model  year  price transmission  mileage fuelType  tax   mpg  engineSize\n",
      "0   Octavia  2017  10550       Manual    25250   Petrol  150  54.3         1.4\n",
      "1    Citigo  2018   8200       Manual     1264   Petrol  145  67.3         1.0\n"
     ]
    }
   ],
   "source": [
    "Skoda = pd.read_csv(\"../desktop/ironhack/Cars/skoda.csv\", encoding=\"latin1\")\n",
    "print(\"Skoda shape\", Skoda.shape)\n",
    "print(Skoda.head(2))"
   ]
  },
  {
   "cell_type": "code",
   "execution_count": 9,
   "metadata": {},
   "outputs": [
    {
     "name": "stdout",
     "output_type": "stream",
     "text": [
      "Vauxhall shape: (13632, 9)\n",
      "    model  year  price transmission  mileage fuelType  tax   mpg  engineSize\n",
      "0   Corsa  2018   7885       Manual     9876   Petrol  145  55.4         1.4\n",
      "1   Corsa  2019  11995       Manual     2500   Petrol  145  54.3         1.4\n"
     ]
    }
   ],
   "source": [
    "Vauxhall = pd.read_csv(\"../desktop/ironhack/Cars/vauxhall.csv\", encoding=\"latin1\")\n",
    "print(\"Vauxhall shape:\",Vauxhall.shape)\n",
    "print(Vauxhall.head(2))"
   ]
  },
  {
   "cell_type": "code",
   "execution_count": 10,
   "metadata": {},
   "outputs": [
    {
     "name": "stdout",
     "output_type": "stream",
     "text": [
      "Volkswagen shape: (15157, 9)\n",
      "    model  year  price transmission  mileage fuelType  tax   mpg  engineSize\n",
      "0   T-Roc  2019  25000    Automatic    13904   Diesel  145  49.6         2.0\n",
      "1   T-Roc  2019  26883    Automatic     4562   Diesel  145  49.6         2.0\n"
     ]
    }
   ],
   "source": [
    "Volkswagen = pd.read_csv(\"../desktop/ironhack/Cars/Volkswagen.csv\", encoding=\"latin1\")\n",
    "print(\"Volkswagen shape:\", Volkswagen.shape)\n",
    "print(Volkswagen.head(2))"
   ]
  },
  {
   "cell_type": "markdown",
   "metadata": {},
   "source": [
    "I have a data sets labeled \"unclean_focus\". I will look at it and see if has any use."
   ]
  },
  {
   "cell_type": "code",
   "execution_count": 11,
   "metadata": {},
   "outputs": [
    {
     "name": "stdout",
     "output_type": "stream",
     "text": [
      "(5604, 11)\n",
      "    model    year      price transmission mileage fuel type engine size  \\\n",
      "0   Focus  2016.0    Â£8,000       Manual     NaN    Petrol       0.999   \n",
      "1   Focus  2019.0   Â£13,400       Manual     NaN    Petrol       0.999   \n",
      "\n",
      "  mileage2 fuel type2 engine size2     reference  \n",
      "0   38,852        NaN          NaN  /ad/25451236  \n",
      "1   11,952        NaN          NaN  /ad/25466927  \n"
     ]
    }
   ],
   "source": [
    "unclean_focus = pd.read_csv(\"../desktop/ironhack/Cars/unclean focus.csv\", encoding=\"latin1\")\n",
    "print(unclean_focus.shape)\n",
    "print(unclean_focus.head(2))"
   ]
  },
  {
   "cell_type": "markdown",
   "metadata": {},
   "source": [
    "# Cleaning "
   ]
  },
  {
   "cell_type": "markdown",
   "metadata": {},
   "source": [
    "The Ford Focus is a very popular car in the UK, so I will clean the data to use it."
   ]
  },
  {
   "cell_type": "code",
   "execution_count": 12,
   "metadata": {},
   "outputs": [
    {
     "data": {
      "text/html": [
       "<div>\n",
       "<style scoped>\n",
       "    .dataframe tbody tr th:only-of-type {\n",
       "        vertical-align: middle;\n",
       "    }\n",
       "\n",
       "    .dataframe tbody tr th {\n",
       "        vertical-align: top;\n",
       "    }\n",
       "\n",
       "    .dataframe thead th {\n",
       "        text-align: right;\n",
       "    }\n",
       "</style>\n",
       "<table border=\"1\" class=\"dataframe\">\n",
       "  <thead>\n",
       "    <tr style=\"text-align: right;\">\n",
       "      <th></th>\n",
       "      <th>model</th>\n",
       "      <th>year</th>\n",
       "      <th>price</th>\n",
       "      <th>transmission</th>\n",
       "      <th>mileage</th>\n",
       "      <th>fuel type</th>\n",
       "      <th>engine size</th>\n",
       "      <th>mileage2</th>\n",
       "      <th>fuel type2</th>\n",
       "      <th>engine size2</th>\n",
       "      <th>reference</th>\n",
       "    </tr>\n",
       "  </thead>\n",
       "  <tbody>\n",
       "    <tr>\n",
       "      <th>0</th>\n",
       "      <td>Focus</td>\n",
       "      <td>2016.0</td>\n",
       "      <td>Â£8,000</td>\n",
       "      <td>Manual</td>\n",
       "      <td>NaN</td>\n",
       "      <td>Petrol</td>\n",
       "      <td>0.999</td>\n",
       "      <td>38,852</td>\n",
       "      <td>NaN</td>\n",
       "      <td>NaN</td>\n",
       "      <td>/ad/25451236</td>\n",
       "    </tr>\n",
       "    <tr>\n",
       "      <th>1</th>\n",
       "      <td>Focus</td>\n",
       "      <td>2019.0</td>\n",
       "      <td>Â£13,400</td>\n",
       "      <td>Manual</td>\n",
       "      <td>NaN</td>\n",
       "      <td>Petrol</td>\n",
       "      <td>0.999</td>\n",
       "      <td>11,952</td>\n",
       "      <td>NaN</td>\n",
       "      <td>NaN</td>\n",
       "      <td>/ad/25466927</td>\n",
       "    </tr>\n",
       "    <tr>\n",
       "      <th>2</th>\n",
       "      <td>Focus</td>\n",
       "      <td>2019.0</td>\n",
       "      <td>Â£14,600</td>\n",
       "      <td>Manual</td>\n",
       "      <td>NaN</td>\n",
       "      <td>Petrol</td>\n",
       "      <td>1.498</td>\n",
       "      <td>22,142</td>\n",
       "      <td>NaN</td>\n",
       "      <td>NaN</td>\n",
       "      <td>/ad/25484363</td>\n",
       "    </tr>\n",
       "    <tr>\n",
       "      <th>3</th>\n",
       "      <td>Focus</td>\n",
       "      <td>2016.0</td>\n",
       "      <td>Â£9,450</td>\n",
       "      <td>Manual</td>\n",
       "      <td>NaN</td>\n",
       "      <td>Diesel</td>\n",
       "      <td>1.56</td>\n",
       "      <td>14,549</td>\n",
       "      <td>NaN</td>\n",
       "      <td>NaN</td>\n",
       "      <td>/ad/20444868</td>\n",
       "    </tr>\n",
       "    <tr>\n",
       "      <th>4</th>\n",
       "      <td>Focus</td>\n",
       "      <td>2015.0</td>\n",
       "      <td>Â£9,999</td>\n",
       "      <td>Manual</td>\n",
       "      <td>NaN</td>\n",
       "      <td>Diesel</td>\n",
       "      <td>1.56</td>\n",
       "      <td>7,010</td>\n",
       "      <td>NaN</td>\n",
       "      <td>NaN</td>\n",
       "      <td>/ad/22551057</td>\n",
       "    </tr>\n",
       "  </tbody>\n",
       "</table>\n",
       "</div>"
      ],
      "text/plain": [
       "    model    year      price transmission mileage fuel type engine size  \\\n",
       "0   Focus  2016.0    Â£8,000       Manual     NaN    Petrol       0.999   \n",
       "1   Focus  2019.0   Â£13,400       Manual     NaN    Petrol       0.999   \n",
       "2   Focus  2019.0   Â£14,600       Manual     NaN    Petrol       1.498   \n",
       "3   Focus  2016.0    Â£9,450       Manual     NaN    Diesel        1.56   \n",
       "4   Focus  2015.0    Â£9,999       Manual     NaN    Diesel        1.56   \n",
       "\n",
       "  mileage2 fuel type2 engine size2     reference  \n",
       "0   38,852        NaN          NaN  /ad/25451236  \n",
       "1   11,952        NaN          NaN  /ad/25466927  \n",
       "2   22,142        NaN          NaN  /ad/25484363  \n",
       "3   14,549        NaN          NaN  /ad/20444868  \n",
       "4    7,010        NaN          NaN  /ad/22551057  "
      ]
     },
     "execution_count": 12,
     "metadata": {},
     "output_type": "execute_result"
    }
   ],
   "source": [
    "unclean_focus.head()"
   ]
  },
  {
   "cell_type": "code",
   "execution_count": 13,
   "metadata": {},
   "outputs": [
    {
     "data": {
      "text/plain": [
       "array([nan, '13,255', '42,112', ..., '21,215', '1,478', '9,137'],\n",
       "      dtype=object)"
      ]
     },
     "execution_count": 13,
     "metadata": {},
     "output_type": "execute_result"
    }
   ],
   "source": [
    "unclean_focus['mileage'].unique()"
   ]
  },
  {
   "cell_type": "code",
   "execution_count": 14,
   "metadata": {},
   "outputs": [
    {
     "data": {
      "text/plain": [
       "array(['38,852', '11,952', '22,142', '14,549', '7,010', '26,796',\n",
       "       '16,128', '4,900', '30,953', '3,000'], dtype=object)"
      ]
     },
     "execution_count": 14,
     "metadata": {},
     "output_type": "execute_result"
    }
   ],
   "source": [
    "unclean_focus['mileage2'].unique()[:10]"
   ]
  },
  {
   "cell_type": "code",
   "execution_count": 15,
   "metadata": {},
   "outputs": [],
   "source": [
    "unclean_focus = unclean_focus.drop(columns=['mileage','fuel type2', 'engine size2', 'reference'])"
   ]
  },
  {
   "cell_type": "code",
   "execution_count": 16,
   "metadata": {},
   "outputs": [
    {
     "data": {
      "text/html": [
       "<div>\n",
       "<style scoped>\n",
       "    .dataframe tbody tr th:only-of-type {\n",
       "        vertical-align: middle;\n",
       "    }\n",
       "\n",
       "    .dataframe tbody tr th {\n",
       "        vertical-align: top;\n",
       "    }\n",
       "\n",
       "    .dataframe thead th {\n",
       "        text-align: right;\n",
       "    }\n",
       "</style>\n",
       "<table border=\"1\" class=\"dataframe\">\n",
       "  <thead>\n",
       "    <tr style=\"text-align: right;\">\n",
       "      <th></th>\n",
       "      <th>model</th>\n",
       "      <th>year</th>\n",
       "      <th>price</th>\n",
       "      <th>transmission</th>\n",
       "      <th>fuel type</th>\n",
       "      <th>engine size</th>\n",
       "      <th>mileage2</th>\n",
       "    </tr>\n",
       "  </thead>\n",
       "  <tbody>\n",
       "    <tr>\n",
       "      <th>0</th>\n",
       "      <td>Focus</td>\n",
       "      <td>2016.0</td>\n",
       "      <td>Â£8,000</td>\n",
       "      <td>Manual</td>\n",
       "      <td>Petrol</td>\n",
       "      <td>0.999</td>\n",
       "      <td>38,852</td>\n",
       "    </tr>\n",
       "    <tr>\n",
       "      <th>1</th>\n",
       "      <td>Focus</td>\n",
       "      <td>2019.0</td>\n",
       "      <td>Â£13,400</td>\n",
       "      <td>Manual</td>\n",
       "      <td>Petrol</td>\n",
       "      <td>0.999</td>\n",
       "      <td>11,952</td>\n",
       "    </tr>\n",
       "    <tr>\n",
       "      <th>2</th>\n",
       "      <td>Focus</td>\n",
       "      <td>2019.0</td>\n",
       "      <td>Â£14,600</td>\n",
       "      <td>Manual</td>\n",
       "      <td>Petrol</td>\n",
       "      <td>1.498</td>\n",
       "      <td>22,142</td>\n",
       "    </tr>\n",
       "    <tr>\n",
       "      <th>3</th>\n",
       "      <td>Focus</td>\n",
       "      <td>2016.0</td>\n",
       "      <td>Â£9,450</td>\n",
       "      <td>Manual</td>\n",
       "      <td>Diesel</td>\n",
       "      <td>1.56</td>\n",
       "      <td>14,549</td>\n",
       "    </tr>\n",
       "    <tr>\n",
       "      <th>4</th>\n",
       "      <td>Focus</td>\n",
       "      <td>2015.0</td>\n",
       "      <td>Â£9,999</td>\n",
       "      <td>Manual</td>\n",
       "      <td>Diesel</td>\n",
       "      <td>1.56</td>\n",
       "      <td>7,010</td>\n",
       "    </tr>\n",
       "  </tbody>\n",
       "</table>\n",
       "</div>"
      ],
      "text/plain": [
       "    model    year      price transmission fuel type engine size mileage2\n",
       "0   Focus  2016.0    Â£8,000       Manual    Petrol       0.999   38,852\n",
       "1   Focus  2019.0   Â£13,400       Manual    Petrol       0.999   11,952\n",
       "2   Focus  2019.0   Â£14,600       Manual    Petrol       1.498   22,142\n",
       "3   Focus  2016.0    Â£9,450       Manual    Diesel        1.56   14,549\n",
       "4   Focus  2015.0    Â£9,999       Manual    Diesel        1.56    7,010"
      ]
     },
     "execution_count": 16,
     "metadata": {},
     "output_type": "execute_result"
    }
   ],
   "source": [
    "unclean_focus.head()"
   ]
  },
  {
   "cell_type": "code",
   "execution_count": 17,
   "metadata": {},
   "outputs": [
    {
     "name": "stdout",
     "output_type": "stream",
     "text": [
      "model: [' Focus' nan]\n",
      "year: [2016. 2019. 2015. 2018. 2020. 2017. 2013. 2009. 2011. 2014.   nan 2012.\n",
      " 2008. 2006. 2010. 2007. 2003. 2005. 2002.]\n",
      "price: [' Â£8,000' ' Â£13,400' ' Â£14,600' ... ' Â£6,494' ' Â£8,200' ' Â£17,799']\n",
      "transmission: ['Manual' 'Automatic' 'Semi-Auto' nan]\n",
      "fuel type ['Petrol' 'Diesel' nan '11' '14' '26' '12' '24' '10' '13' '15' '33' '36'\n",
      " '35' '16' '22' '40' '8' '21' '9' '20' '7' '19' '34' '18' '25' '17' '31'\n",
      " '38' '6']\n",
      "engine size: ['0.999' '1.498' '1.56' '999' '1000' '2300' '1498' '1.5' 'Â£145' 'Â£20'\n",
      " 'Â£0' 'Â£165' 'Â£150' 'Â£125' '2' '1' 'Â£30' 'Â£205' '2.3' 'Â£235'\n",
      " 'Â£160' 'Â£145  ' 'Â£150  ' 'Â£200' 'Â£240' nan 'Â£260' 'Â£120' 'Â£140'\n",
      " '1596' '1499' 'Â£300' 'Â£195' 'Â£325' '1999' '1.6' '1560' 'Â£190' 'Â£265'\n",
      " 'Â£330' 'Â£155' 'Â£230' ' 2,00 cc']\n",
      "mileage: ['38,852' '11,952' '22,142' '14,549' '7,010' '26,796' '16,128' '4,900'\n",
      " '30,953' '3,000' '57.7' '61.4' '74.3' '44.8' '80.7' '60.1' '67.3' '51.4'\n",
      " '8,879' '4,698' '16,199' '3,212' '8,201' '13,471' '12,372' '11,535'\n",
      " '2,219' '10,230' '201' '48,961' '13,516' '23,500' '12,395' '4,984'\n",
      " '6,393' '12,198' '50.4' '46.3' '9,439' '9,943' '8,188' '10,589' '15,272'\n",
      " '13,789' '3,655' '7,555' '13,737' '13,706' '7,426' '11,594' '12,119'\n",
      " '13,762' '12,811' '13,797' '11,645' '13,545' '6,428' '10,370' '53,130'\n",
      " '29,705' '5,367' '4,855' '100' '9,022' '19,785' '57,029' '64.2' '42.2'\n",
      " '65,000' '41,495' '11,382' '25,519' '17,339' '8,566' '7,846' '4,711'\n",
      " '12,877' '7,021' '13,752' '10,805' '11,883' '11,536' '12,677' '12,062'\n",
      " '11,834' '974' '2,950' '3,796' '3,230' '13,240' '14,410' '10,503'\n",
      " '12,624' '9,675' '7,590' '7,358' '13,816' '10,472' '10,960' '15,238'\n",
      " '12,456' '47.9' '40.4' '6,108' '2,712' '1,904' '3,003' '41.5' '22,587'\n",
      " '19,834' '32,746' '9,137' '11,427' '14,021' '10,874' '13,931' '11,291'\n",
      " '12,503' '11,939' '8,919' '1,725' '825' '56.5' '36.7' '58.9' '40.9'\n",
      " '54.3' '49.6' '39.2' '70.6' '48.7' '34.5' '42.8' '53.3' '62.8' '83.1'\n",
      " '57.6' '44.1' '9,000' '45.6' '48,425' '76.4' nan '55.4' '39.8' '47.1'\n",
      " '11,130' '29,201' '71,000' '13,445' '27,400' '40,041' '34.9' '37.7'\n",
      " '20,850' '30.4' '26,000' '8,235' '83,000' '45,760' '44,646' '46,319'\n",
      " '54,894' '30,212' '12,914' '17,105' '15,506' '23,361' '10,788' '48,818'\n",
      " '52,000' '55,090' '28,258' '24,717' '30,000' '26.3' '37.1' '31' '6,928'\n",
      " '451' '1,073' '2,804' '1,494' '12,592' '9,651' '8,864' '824' '4,483'\n",
      " '14,608' '6,797' '8,418' '4,677' '5,002' '7,937' '13,733' '6,447' '6,348'\n",
      " '5,662' '3,024' '2,992' '7,111' '42.1' '30.1' '54.2' '1,577' '534'\n",
      " '10,045' '12,627' '7,855' '13,891' '13,376' '7,886' '13,774' '9,929'\n",
      " '12,168' '7,529' '2,532' '9,068' '1,523' '13,452' '12,820' '10,552'\n",
      " '90,000' '101,000' '12,086' '59,000' '77,368' '97,498' '13,815']\n"
     ]
    }
   ],
   "source": [
    "print(\"model:\",unclean_focus['model'].unique())\n",
    "print(\"year:\",unclean_focus['year'].unique())\n",
    "print(\"price:\",unclean_focus['price'].unique())\n",
    "print(\"transmission:\",unclean_focus['transmission'].unique())\n",
    "print(\"fuel type\",unclean_focus['fuel type'].unique())\n",
    "print(\"engine size:\",unclean_focus['engine size'].unique())\n",
    "print(\"mileage:\",unclean_focus['mileage2'].unique())"
   ]
  },
  {
   "cell_type": "code",
   "execution_count": 18,
   "metadata": {},
   "outputs": [
    {
     "name": "stdout",
     "output_type": "stream",
     "text": [
      "model - 1%\n",
      "year - 3%\n",
      "price - 1%\n",
      "transmission - 1%\n",
      "fuel type - 61%\n",
      "engine size - 2%\n",
      "mileage2 - 2%\n"
     ]
    }
   ],
   "source": [
    "for col in unclean_focus.columns:\n",
    "    pct_missing = np.mean(unclean_focus[col].isnull())\n",
    "    print('{} - {}%'.format(col, round(pct_missing*100)))"
   ]
  },
  {
   "cell_type": "markdown",
   "metadata": {},
   "source": [
    "There are a lot of missing values in fuel type, 61%, because it is an important factor in the price of a car, I will not drop the column, but I will drop the rows with the missing values."
   ]
  },
  {
   "cell_type": "code",
   "execution_count": 19,
   "metadata": {},
   "outputs": [
    {
     "data": {
      "text/plain": [
       "model             56\n",
       "year             145\n",
       "price             56\n",
       "transmission      56\n",
       "fuel type       3416\n",
       "engine size      101\n",
       "mileage2          95\n",
       "dtype: int64"
      ]
     },
     "execution_count": 19,
     "metadata": {},
     "output_type": "execute_result"
    }
   ],
   "source": [
    "unclean_focus.isnull().sum()"
   ]
  },
  {
   "cell_type": "code",
   "execution_count": 20,
   "metadata": {},
   "outputs": [],
   "source": [
    "unclean_focus = unclean_focus.dropna()"
   ]
  },
  {
   "cell_type": "code",
   "execution_count": 21,
   "metadata": {},
   "outputs": [
    {
     "data": {
      "text/plain": [
       "model           0\n",
       "year            0\n",
       "price           0\n",
       "transmission    0\n",
       "fuel type       0\n",
       "engine size     0\n",
       "mileage2        0\n",
       "dtype: int64"
      ]
     },
     "execution_count": 21,
     "metadata": {},
     "output_type": "execute_result"
    }
   ],
   "source": [
    "unclean_focus.isnull().sum()"
   ]
  },
  {
   "cell_type": "code",
   "execution_count": 22,
   "metadata": {},
   "outputs": [
    {
     "name": "stderr",
     "output_type": "stream",
     "text": [
      "<ipython-input-22-90a36d529bdb>:1: FutureWarning: The default value of regex will change from True to False in a future version.\n",
      "  unclean_focus['price'] = unclean_focus['price'].str.replace(r'\\Â', '')\n",
      "<ipython-input-22-90a36d529bdb>:2: FutureWarning: The default value of regex will change from True to False in a future version.\n",
      "  unclean_focus['price'] = unclean_focus['price'].str.replace(r'\\£', '')\n",
      "<ipython-input-22-90a36d529bdb>:3: FutureWarning: The default value of regex will change from True to False in a future version.\n",
      "  unclean_focus['engine size'] = unclean_focus['engine size'].str.replace(r'\\Â', '')\n",
      "<ipython-input-22-90a36d529bdb>:4: FutureWarning: The default value of regex will change from True to False in a future version.\n",
      "  unclean_focus['engine size'] = unclean_focus['engine size'].str.replace(r'\\£', '')\n"
     ]
    }
   ],
   "source": [
    "unclean_focus['price'] = unclean_focus['price'].str.replace(r'\\Â', '')\n",
    "unclean_focus['price'] = unclean_focus['price'].str.replace(r'\\£', '')\n",
    "unclean_focus['engine size'] = unclean_focus['engine size'].str.replace(r'\\Â', '')\n",
    "unclean_focus['engine size'] = unclean_focus['engine size'].str.replace(r'\\£', '')"
   ]
  },
  {
   "cell_type": "code",
   "execution_count": 23,
   "metadata": {},
   "outputs": [
    {
     "data": {
      "text/html": [
       "<div>\n",
       "<style scoped>\n",
       "    .dataframe tbody tr th:only-of-type {\n",
       "        vertical-align: middle;\n",
       "    }\n",
       "\n",
       "    .dataframe tbody tr th {\n",
       "        vertical-align: top;\n",
       "    }\n",
       "\n",
       "    .dataframe thead th {\n",
       "        text-align: right;\n",
       "    }\n",
       "</style>\n",
       "<table border=\"1\" class=\"dataframe\">\n",
       "  <thead>\n",
       "    <tr style=\"text-align: right;\">\n",
       "      <th></th>\n",
       "      <th>model</th>\n",
       "      <th>year</th>\n",
       "      <th>price</th>\n",
       "      <th>transmission</th>\n",
       "      <th>fuel type</th>\n",
       "      <th>engine size</th>\n",
       "      <th>mileage2</th>\n",
       "    </tr>\n",
       "  </thead>\n",
       "  <tbody>\n",
       "    <tr>\n",
       "      <th>0</th>\n",
       "      <td>Focus</td>\n",
       "      <td>2016.0</td>\n",
       "      <td>8,000</td>\n",
       "      <td>Manual</td>\n",
       "      <td>Petrol</td>\n",
       "      <td>0.999</td>\n",
       "      <td>38,852</td>\n",
       "    </tr>\n",
       "    <tr>\n",
       "      <th>1</th>\n",
       "      <td>Focus</td>\n",
       "      <td>2019.0</td>\n",
       "      <td>13,400</td>\n",
       "      <td>Manual</td>\n",
       "      <td>Petrol</td>\n",
       "      <td>0.999</td>\n",
       "      <td>11,952</td>\n",
       "    </tr>\n",
       "    <tr>\n",
       "      <th>2</th>\n",
       "      <td>Focus</td>\n",
       "      <td>2019.0</td>\n",
       "      <td>14,600</td>\n",
       "      <td>Manual</td>\n",
       "      <td>Petrol</td>\n",
       "      <td>1.498</td>\n",
       "      <td>22,142</td>\n",
       "    </tr>\n",
       "    <tr>\n",
       "      <th>3</th>\n",
       "      <td>Focus</td>\n",
       "      <td>2016.0</td>\n",
       "      <td>9,450</td>\n",
       "      <td>Manual</td>\n",
       "      <td>Diesel</td>\n",
       "      <td>1.56</td>\n",
       "      <td>14,549</td>\n",
       "    </tr>\n",
       "    <tr>\n",
       "      <th>4</th>\n",
       "      <td>Focus</td>\n",
       "      <td>2015.0</td>\n",
       "      <td>9,999</td>\n",
       "      <td>Manual</td>\n",
       "      <td>Diesel</td>\n",
       "      <td>1.56</td>\n",
       "      <td>7,010</td>\n",
       "    </tr>\n",
       "    <tr>\n",
       "      <th>...</th>\n",
       "      <td>...</td>\n",
       "      <td>...</td>\n",
       "      <td>...</td>\n",
       "      <td>...</td>\n",
       "      <td>...</td>\n",
       "      <td>...</td>\n",
       "      <td>...</td>\n",
       "    </tr>\n",
       "    <tr>\n",
       "      <th>5599</th>\n",
       "      <td>Focus</td>\n",
       "      <td>2019.0</td>\n",
       "      <td>18,745</td>\n",
       "      <td>Manual</td>\n",
       "      <td>Diesel</td>\n",
       "      <td>2</td>\n",
       "      <td>7,855</td>\n",
       "    </tr>\n",
       "    <tr>\n",
       "      <th>5600</th>\n",
       "      <td>Focus</td>\n",
       "      <td>2019.0</td>\n",
       "      <td>16,350</td>\n",
       "      <td>Manual</td>\n",
       "      <td>Petrol</td>\n",
       "      <td>1</td>\n",
       "      <td>13,891</td>\n",
       "    </tr>\n",
       "    <tr>\n",
       "      <th>5601</th>\n",
       "      <td>Focus</td>\n",
       "      <td>2019.0</td>\n",
       "      <td>16,850</td>\n",
       "      <td>Manual</td>\n",
       "      <td>Petrol</td>\n",
       "      <td>1</td>\n",
       "      <td>13,452</td>\n",
       "    </tr>\n",
       "    <tr>\n",
       "      <th>5602</th>\n",
       "      <td>Focus</td>\n",
       "      <td>2019.0</td>\n",
       "      <td>17,310</td>\n",
       "      <td>Automatic</td>\n",
       "      <td>Petrol</td>\n",
       "      <td>1</td>\n",
       "      <td>13,376</td>\n",
       "    </tr>\n",
       "    <tr>\n",
       "      <th>5603</th>\n",
       "      <td>Focus</td>\n",
       "      <td>2019.0</td>\n",
       "      <td>17,610</td>\n",
       "      <td>Automatic</td>\n",
       "      <td>Petrol</td>\n",
       "      <td>1</td>\n",
       "      <td>7,886</td>\n",
       "    </tr>\n",
       "  </tbody>\n",
       "</table>\n",
       "<p>2124 rows × 7 columns</p>\n",
       "</div>"
      ],
      "text/plain": [
       "       model    year    price transmission fuel type engine size mileage2\n",
       "0      Focus  2016.0    8,000       Manual    Petrol       0.999   38,852\n",
       "1      Focus  2019.0   13,400       Manual    Petrol       0.999   11,952\n",
       "2      Focus  2019.0   14,600       Manual    Petrol       1.498   22,142\n",
       "3      Focus  2016.0    9,450       Manual    Diesel        1.56   14,549\n",
       "4      Focus  2015.0    9,999       Manual    Diesel        1.56    7,010\n",
       "...      ...     ...      ...          ...       ...         ...      ...\n",
       "5599   Focus  2019.0   18,745       Manual    Diesel           2    7,855\n",
       "5600   Focus  2019.0   16,350       Manual    Petrol           1   13,891\n",
       "5601   Focus  2019.0   16,850       Manual    Petrol           1   13,452\n",
       "5602   Focus  2019.0   17,310    Automatic    Petrol           1   13,376\n",
       "5603   Focus  2019.0   17,610    Automatic    Petrol           1    7,886\n",
       "\n",
       "[2124 rows x 7 columns]"
      ]
     },
     "execution_count": 23,
     "metadata": {},
     "output_type": "execute_result"
    }
   ],
   "source": [
    "clean_focus = unclean_focus\n",
    "clean_focus"
   ]
  },
  {
   "cell_type": "markdown",
   "metadata": {},
   "source": [
    "At the start the data set had 5604 rows and 11 columns, now that it is clean it has 2124 rows and 7 columns."
   ]
  },
  {
   "cell_type": "code",
   "execution_count": null,
   "metadata": {},
   "outputs": [],
   "source": []
  }
 ],
 "metadata": {
  "kernelspec": {
   "display_name": "Python 3",
   "language": "python",
   "name": "python3"
  },
  "language_info": {
   "codemirror_mode": {
    "name": "ipython",
    "version": 3
   },
   "file_extension": ".py",
   "mimetype": "text/x-python",
   "name": "python",
   "nbconvert_exporter": "python",
   "pygments_lexer": "ipython3",
   "version": "3.9.1"
  }
 },
 "nbformat": 4,
 "nbformat_minor": 4
}
